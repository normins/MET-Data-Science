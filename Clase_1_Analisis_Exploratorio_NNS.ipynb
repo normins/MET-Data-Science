{
  "nbformat": 4,
  "nbformat_minor": 0,
  "metadata": {
    "colab": {
      "name": "Clase_1-Analisis_Exploratorio-NNS.ipynb",
      "provenance": [],
      "include_colab_link": true
    },
    "kernelspec": {
      "name": "python3",
      "display_name": "Python 3"
    },
    "language_info": {
      "name": "python"
    }
  },
  "cells": [
    {
      "cell_type": "markdown",
      "metadata": {
        "id": "view-in-github",
        "colab_type": "text"
      },
      "source": [
        "<a href=\"https://colab.research.google.com/github/normins/MET-Data-Science/blob/main/Clase_1_Analisis_Exploratorio_NNS.ipynb\" target=\"_parent\"><img src=\"https://colab.research.google.com/assets/colab-badge.svg\" alt=\"Open In Colab\"/></a>"
      ]
    },
    {
      "cell_type": "markdown",
      "metadata": {
        "id": "Hg4m6jIVDoBh"
      },
      "source": [
        "\n",
        "# **MeTCaMPDatos**\n",
        "\n",
        "\n",
        "**Edición 2021**\n",
        "\n",
        "<img src=\"https://i.imgur.com/HnKHks1.png\" height=\"150\" />\n"
      ]
    },
    {
      "cell_type": "code",
      "metadata": {
        "id": "Zg0k2Q5x4Jsf"
      },
      "source": [
        ""
      ],
      "execution_count": null,
      "outputs": []
    },
    {
      "cell_type": "markdown",
      "metadata": {
        "id": "SSANaFD9J_Y9"
      },
      "source": [
        "## Aventurándonos en el mundo de los **datos**\n",
        "La idea de este notebook es poder introducir algunos conceptos básicos de estadistica descriptiva y sus aplicaciones en Python. Intentaremos familiarizarnos con algunos \n",
        "conceptos (librerias, paquetes y funciones) que nos facilitaran el camino hacia la manipulacion y procesamiento de los datos. \n",
        "\n",
        "## Objetivos\n",
        "- Introducir funciones necesarias para una exploracion inicial del dataset\n",
        "- Brindar nociones basicas de diferentes medidas de estadistica descriptiva aplicadas \n",
        "- Pensar preguntas o problemas y variables de interés \n",
        "- Descubrir un primer insight que aporte valor al analisis\n"
      ]
    },
    {
      "cell_type": "markdown",
      "metadata": {
        "id": "SiexjSvxpT8o"
      },
      "source": [
        "\n",
        "## Herramientas de trabajo \n",
        "En esta oportunidad vamos a utilizar el lenguaje de programación Python junto con Google Colab para realizar nuestro primer analisis de la encuesta de sueldos. Recorda que Colab es un servicio cloud basado en los Notebooks de Jupyter, por lo tanto no es necesario descargar nada. A su vez, nos iniciaremos en un primer uso de herramientas de software libre, es decir no necesitas una licencia para porder utilizarlas. \n",
        "\n",
        "<center>\n",
        "<img src=\"https://i.imgur.com/Cq52LcH.png\" height=\"150\" />\n",
        "</center>\n",
        "\n",
        "\n"
      ]
    },
    {
      "cell_type": "markdown",
      "metadata": {
        "id": "suL1HH9aJesv"
      },
      "source": [
        "## Pero primero: ¡Hola mundo!\n",
        "Si es tu primer experiencia con Python, usá la celda de acá abajo para probar tu primer línea de código. Para imprimirlo en pantalla escribimos print(\"Hola mundo!\")\n"
      ]
    },
    {
      "cell_type": "code",
      "metadata": {
        "id": "HMavlkTcJ4b7",
        "colab": {
          "base_uri": "https://localhost:8080/"
        },
        "outputId": "a2a8b657-5401-4ddb-d7b6-9a4812da3f8c"
      },
      "source": [
        "print(\"Hola mundo\")"
      ],
      "execution_count": null,
      "outputs": [
        {
          "output_type": "stream",
          "text": [
            "Hola mundo\n"
          ],
          "name": "stdout"
        }
      ]
    },
    {
      "cell_type": "markdown",
      "metadata": {
        "id": "DEOhMNkfW_HF"
      },
      "source": [
        "Un ejemplo de lo que podés hacer con Python. Probá cambiando los números y apretando play.\n",
        "\n"
      ]
    },
    {
      "cell_type": "code",
      "metadata": {
        "colab": {
          "base_uri": "https://localhost:8080/"
        },
        "id": "uvWNDQvEW9De",
        "outputId": "e0bcf2da-bace-416c-90b8-4e57870509f4"
      },
      "source": [
        "a = 3\n",
        "b = 4\n",
        "print(a+b)\n"
      ],
      "execution_count": null,
      "outputs": [
        {
          "output_type": "stream",
          "text": [
            "7\n"
          ],
          "name": "stdout"
        }
      ]
    },
    {
      "cell_type": "markdown",
      "metadata": {
        "id": "5JGkMGEHKov5"
      },
      "source": [
        "\n",
        "## Explorando algunos datos\n",
        "Vamos a trabajar con un set de datos obtenido de **SysArmy** que se denomina **\"Encuesta de Sueldos\"** y se puede consultar en: [este sitio](https://sysarmy.com/blog/posts/resultados-de-la-encuesta-de-sueldos-2021-1/).\n",
        "\n",
        "<center>\n",
        "<img src=\"https://i.imgur.com/ivxTHhG.png\" height=\"150\" />\n",
        "</center>\n",
        "\n",
        "Sysarmy es una organización internacional perteneciente a la comunidad de sistemas que nuclea a profesionales del área para favorecer el contacto y el intercambio de conocimiento de manera informal. Anualmente desarrollan una encuesta de sueldos con el objetivo de obtener información sobre la situación laboral actual en tecnología, evaluan el máximo nivel educativo alcanzado de los encuestados y brindan información sobre diferentes empresas. \n"
      ]
    },
    {
      "cell_type": "markdown",
      "metadata": {
        "id": "g7S0QnSzoXMu"
      },
      "source": [
        "## Que es el EDA? \n",
        "\n",
        "En sus siglas en inglés hace referencia al **Análisis Exploratorio de Datos**. Este es el primer paso que debemos realizar como Data Scientists y consta de una primera revisión del estado de los datos y los consecuentes pasos necesarios para una correcta transformación.\n",
        "\n",
        "La ciencia de datos es una disciplina que te permite convertir datos crudos en entendimiento, comprensión y conocimiento.\n",
        "\n",
        "<center>\n",
        "<img src=\"https://i.imgur.com/jclXnDS.png\" height=\"150\" />\n",
        "</center>\n",
        "\n",
        "\n",
        "En este sentdo, el primer objetivo radica en preguntarnos **¿De que se trata este dataset?**"
      ]
    },
    {
      "cell_type": "markdown",
      "metadata": {
        "id": "WDQoLYY-GQla"
      },
      "source": [
        "## Importación de librerías"
      ]
    },
    {
      "cell_type": "code",
      "metadata": {
        "id": "PXXktPpyDn1_"
      },
      "source": [
        "import numpy as np #importo numpy\n",
        "import pandas as pd #importo pandas"
      ],
      "execution_count": 2,
      "outputs": []
    },
    {
      "cell_type": "markdown",
      "metadata": {
        "id": "Tisxy2oeGH6z"
      },
      "source": [
        "## Lectura del dataset"
      ]
    },
    {
      "cell_type": "code",
      "metadata": {
        "id": "esLQzF1ODn0K"
      },
      "source": [
        "url = 'https://raw.githubusercontent.com/MeT2021/MeTCamp-Data-Science/main/sysarmy_2020.csv'\n",
        "df = pd.read_csv(url,error_bad_lines=False)"
      ],
      "execution_count": 4,
      "outputs": []
    },
    {
      "cell_type": "markdown",
      "metadata": {
        "id": "MMYqOtzbDgeJ"
      },
      "source": [
        "Vamos a utilizar `head()` para ver las primeras filas del dataset y `tail()` para ver las últimas."
      ]
    },
    {
      "cell_type": "code",
      "metadata": {
        "id": "f7pIs4ofD6HU",
        "colab": {
          "base_uri": "https://localhost:8080/",
          "height": 802
        },
        "outputId": "a71e6256-d80a-4f25-fd3f-9ef00b2fc378"
      },
      "source": [
        "df.head(5)"
      ],
      "execution_count": 5,
      "outputs": [
        {
          "output_type": "execute_result",
          "data": {
            "text/html": [
              "<div>\n",
              "<style scoped>\n",
              "    .dataframe tbody tr th:only-of-type {\n",
              "        vertical-align: middle;\n",
              "    }\n",
              "\n",
              "    .dataframe tbody tr th {\n",
              "        vertical-align: top;\n",
              "    }\n",
              "\n",
              "    .dataframe thead th {\n",
              "        text-align: right;\n",
              "    }\n",
              "</style>\n",
              "<table border=\"1\" class=\"dataframe\">\n",
              "  <thead>\n",
              "    <tr style=\"text-align: right;\">\n",
              "      <th></th>\n",
              "      <th>Me identifico</th>\n",
              "      <th>Tengo</th>\n",
              "      <th>Estoy trabajando en</th>\n",
              "      <th>Dónde estás trabajando</th>\n",
              "      <th>Años de experiencia</th>\n",
              "      <th>Años en la empresa actual</th>\n",
              "      <th>Años en el puesto actual</th>\n",
              "      <th>¿Gente a cargo?</th>\n",
              "      <th>Nivel de estudios alcanzado</th>\n",
              "      <th>Estado</th>\n",
              "      <th>Carrera</th>\n",
              "      <th>Universidad</th>\n",
              "      <th>Realizaste cursos de especialización</th>\n",
              "      <th>¿Contribuís a proyectos open source?</th>\n",
              "      <th>¿Programás como hobbie?</th>\n",
              "      <th>Trabajo de</th>\n",
              "      <th>Plataformas</th>\n",
              "      <th>Lenguajes de programación</th>\n",
              "      <th>Frameworks, herramientas y librerías</th>\n",
              "      <th>Bases de datos</th>\n",
              "      <th>QA / Testing</th>\n",
              "      <th>IDEs</th>\n",
              "      <th>¿Qué SO usás en tu laptop/PC para trabajar?</th>\n",
              "      <th>¿Y en tu celular?</th>\n",
              "      <th>¿Tenés guardias?</th>\n",
              "      <th>Cuánto cobrás por guardia</th>\n",
              "      <th>¿Porcentaje, bruto o neto?</th>\n",
              "      <th>Tipo de contrato</th>\n",
              "      <th>Salario mensual BRUTO (en tu moneda local)</th>\n",
              "      <th>Salario mensual NETO (en tu moneda local)</th>\n",
              "      <th>Unnamed: 30</th>\n",
              "      <th>¿Qué tan conforme estás con tu sueldo?</th>\n",
              "      <th>Cómo creés que está tu sueldo con respecto al último semestre</th>\n",
              "      <th>Recibís algún tipo de bono</th>\n",
              "      <th>A qué está atado el bono</th>\n",
              "      <th>¿Tuviste ajustes por inflación en lo que va de 2020?</th>\n",
              "      <th>¿De qué % fue el ajuste total?</th>\n",
              "      <th>¿En qué mes fue el último ajuste?</th>\n",
              "      <th>¿Sufriste o presenciaste situaciones de violencia laboral?</th>\n",
              "      <th>Orientación sexual</th>\n",
              "      <th>¿Tenés algún tipo de discapacidad?</th>\n",
              "      <th>¿Sentís que esto te dificultó el conseguir trabajo?</th>\n",
              "      <th>Cantidad de empleados</th>\n",
              "      <th>Actividad principal</th>\n",
              "      <th>¿La recomendás como un buen lugar para trabajar?</th>\n",
              "      <th>¿Cómo calificás las políticas de diversidad e inclusión?</th>\n",
              "      <th>Beneficios extra</th>\n",
              "      <th>¿Cuáles considerás que son las mejores empresas de IT para trabajar en este momento, en tu ciudad?</th>\n",
              "    </tr>\n",
              "  </thead>\n",
              "  <tbody>\n",
              "    <tr>\n",
              "      <th>0</th>\n",
              "      <td>Mujer</td>\n",
              "      <td>26</td>\n",
              "      <td>Argentina</td>\n",
              "      <td>Ciudad Autónoma de Buenos Aires</td>\n",
              "      <td>3.0</td>\n",
              "      <td>3.0</td>\n",
              "      <td>3.0</td>\n",
              "      <td>0</td>\n",
              "      <td>Universitario</td>\n",
              "      <td>En curso</td>\n",
              "      <td>Ingeniería en Sistemas de Información</td>\n",
              "      <td>UTN - Universidad Tecnológica Nacional</td>\n",
              "      <td>Sí, los pagó un empleador</td>\n",
              "      <td>No</td>\n",
              "      <td>Sí</td>\n",
              "      <td>Consultant</td>\n",
              "      <td>Ninguna</td>\n",
              "      <td>Ninguno</td>\n",
              "      <td>Ninguno</td>\n",
              "      <td>Ninguna</td>\n",
              "      <td>Ninguna</td>\n",
              "      <td>Ninguno</td>\n",
              "      <td>GNU/Linux</td>\n",
              "      <td>Android</td>\n",
              "      <td>No</td>\n",
              "      <td>0.0</td>\n",
              "      <td>Bruto</td>\n",
              "      <td>Full-Time</td>\n",
              "      <td>53000.0</td>\n",
              "      <td>43000.0</td>\n",
              "      <td>NaN</td>\n",
              "      <td>1</td>\n",
              "      <td>1</td>\n",
              "      <td>No</td>\n",
              "      <td>No recibo bono</td>\n",
              "      <td>No</td>\n",
              "      <td>0.0</td>\n",
              "      <td>0</td>\n",
              "      <td>En mi trabajo actual</td>\n",
              "      <td>Homosexual</td>\n",
              "      <td>NaN</td>\n",
              "      <td>NaN</td>\n",
              "      <td>501-1000</td>\n",
              "      <td>Servicios / Consultoría de Software / Digital</td>\n",
              "      <td>7</td>\n",
              "      <td>2</td>\n",
              "      <td>Capacitaciones y/o cursos, Comidas pagas / sub...</td>\n",
              "      <td>NaN</td>\n",
              "    </tr>\n",
              "    <tr>\n",
              "      <th>1</th>\n",
              "      <td>Hombre</td>\n",
              "      <td>29</td>\n",
              "      <td>Argentina</td>\n",
              "      <td>Corrientes</td>\n",
              "      <td>5.0</td>\n",
              "      <td>2.0</td>\n",
              "      <td>2.0</td>\n",
              "      <td>4</td>\n",
              "      <td>Universitario</td>\n",
              "      <td>En curso</td>\n",
              "      <td>Ingeniería en Sistemas de Información</td>\n",
              "      <td>UTN - Universidad Tecnológica Nacional</td>\n",
              "      <td>Sí, de forma particular, Sí, los pagó un emple...</td>\n",
              "      <td>No</td>\n",
              "      <td>Sí</td>\n",
              "      <td>Developer</td>\n",
              "      <td>Docker, Google Cloud Platform/App Engine</td>\n",
              "      <td>HTML, Javascript, Python</td>\n",
              "      <td>Django, jQuery</td>\n",
              "      <td>Informix, MySQL, PostgreSQL</td>\n",
              "      <td>Ninguna</td>\n",
              "      <td>IPython / Jupyter, Sublime Text, Visual Studio...</td>\n",
              "      <td>GNU/Linux</td>\n",
              "      <td>Android</td>\n",
              "      <td>No</td>\n",
              "      <td>0.0</td>\n",
              "      <td>Bruto</td>\n",
              "      <td>Full-Time</td>\n",
              "      <td>79000.0</td>\n",
              "      <td>63000.0</td>\n",
              "      <td>NaN</td>\n",
              "      <td>2</td>\n",
              "      <td>2</td>\n",
              "      <td>Menos de un sueldo</td>\n",
              "      <td>Performance de la compañía</td>\n",
              "      <td>Uno</td>\n",
              "      <td>10.0</td>\n",
              "      <td>1</td>\n",
              "      <td>Jamás</td>\n",
              "      <td>Heterosexual</td>\n",
              "      <td>Visual</td>\n",
              "      <td>No</td>\n",
              "      <td>201-500</td>\n",
              "      <td>Otras industrias</td>\n",
              "      <td>8</td>\n",
              "      <td>9</td>\n",
              "      <td>Horarios flexibles, Stock options / RSUs, Viát...</td>\n",
              "      <td>NaN</td>\n",
              "    </tr>\n",
              "    <tr>\n",
              "      <th>2</th>\n",
              "      <td>Mujer</td>\n",
              "      <td>22</td>\n",
              "      <td>Argentina</td>\n",
              "      <td>Ciudad Autónoma de Buenos Aires</td>\n",
              "      <td>2.0</td>\n",
              "      <td>0.0</td>\n",
              "      <td>0.0</td>\n",
              "      <td>0</td>\n",
              "      <td>Secundario</td>\n",
              "      <td>Completado</td>\n",
              "      <td>NaN</td>\n",
              "      <td>NaN</td>\n",
              "      <td>Sí, de forma particular, Sí, los pagó un emple...</td>\n",
              "      <td>No</td>\n",
              "      <td>Sí</td>\n",
              "      <td>Infosec</td>\n",
              "      <td>Linux, VMWare</td>\n",
              "      <td>Ninguno</td>\n",
              "      <td>Ninguno</td>\n",
              "      <td>Ninguna</td>\n",
              "      <td>Ninguna</td>\n",
              "      <td>Ninguno</td>\n",
              "      <td>Windows</td>\n",
              "      <td>iOS</td>\n",
              "      <td>No</td>\n",
              "      <td>0.0</td>\n",
              "      <td>Porcentaje de mi sueldo</td>\n",
              "      <td>Full-Time</td>\n",
              "      <td>160000.0</td>\n",
              "      <td>127000.0</td>\n",
              "      <td>NaN</td>\n",
              "      <td>3</td>\n",
              "      <td>3</td>\n",
              "      <td>Un sueldo</td>\n",
              "      <td>Performance individual</td>\n",
              "      <td>No</td>\n",
              "      <td>0.0</td>\n",
              "      <td>0</td>\n",
              "      <td>En un trabajo anterior</td>\n",
              "      <td>Bisexual o queer</td>\n",
              "      <td>NaN</td>\n",
              "      <td>No</td>\n",
              "      <td>2001-5000</td>\n",
              "      <td>Otras industrias</td>\n",
              "      <td>6</td>\n",
              "      <td>9</td>\n",
              "      <td>Clases de gimnasia online, Comidas pagas / sub...</td>\n",
              "      <td>NaN</td>\n",
              "    </tr>\n",
              "    <tr>\n",
              "      <th>3</th>\n",
              "      <td>Hombre</td>\n",
              "      <td>39</td>\n",
              "      <td>Argentina</td>\n",
              "      <td>Corrientes</td>\n",
              "      <td>15.0</td>\n",
              "      <td>15.0</td>\n",
              "      <td>13.0</td>\n",
              "      <td>5</td>\n",
              "      <td>Posgrado</td>\n",
              "      <td>Incompleto</td>\n",
              "      <td>Licenciatura en Sistemas</td>\n",
              "      <td>UNNE Universidad Nacional del Nordeste</td>\n",
              "      <td>Sí, de forma particular, Sí, los pagó un emple...</td>\n",
              "      <td>Sí</td>\n",
              "      <td>Sí</td>\n",
              "      <td>SysAdmin / DevOps / SRE</td>\n",
              "      <td>Docker, Linux, OpenStack, VMWare, Windows Server</td>\n",
              "      <td>Bash/Shell, C, CSS, HTML, Java, Javascript, PH...</td>\n",
              "      <td>jQuery, WordPress</td>\n",
              "      <td>Microsoft SQL Server, MySQL</td>\n",
              "      <td>PHPUnit</td>\n",
              "      <td>Eclipse, Visual Studio Code</td>\n",
              "      <td>GNU/Linux</td>\n",
              "      <td>Android</td>\n",
              "      <td>Sí, pasiva</td>\n",
              "      <td>0.0</td>\n",
              "      <td>Bruto</td>\n",
              "      <td>Full-Time</td>\n",
              "      <td>130000.0</td>\n",
              "      <td>102000.0</td>\n",
              "      <td>NaN</td>\n",
              "      <td>3</td>\n",
              "      <td>1</td>\n",
              "      <td>No</td>\n",
              "      <td>No recibo bono</td>\n",
              "      <td>No</td>\n",
              "      <td>0.0</td>\n",
              "      <td>0</td>\n",
              "      <td>En mi trabajo actual</td>\n",
              "      <td>Heterosexual</td>\n",
              "      <td>NaN</td>\n",
              "      <td>NaN</td>\n",
              "      <td>501-1000</td>\n",
              "      <td>Otras industrias</td>\n",
              "      <td>7</td>\n",
              "      <td>6</td>\n",
              "      <td>Abono de celular, Capacitaciones y/o cursos, C...</td>\n",
              "      <td>NaN</td>\n",
              "    </tr>\n",
              "    <tr>\n",
              "      <th>4</th>\n",
              "      <td>Hombre</td>\n",
              "      <td>32</td>\n",
              "      <td>Argentina</td>\n",
              "      <td>Ciudad Autónoma de Buenos Aires</td>\n",
              "      <td>9.0</td>\n",
              "      <td>6.0</td>\n",
              "      <td>6.0</td>\n",
              "      <td>0</td>\n",
              "      <td>Universitario</td>\n",
              "      <td>En curso</td>\n",
              "      <td>Licenciatura en Ciencias dela Computación</td>\n",
              "      <td>UBA - Universidad de Buenos Aires</td>\n",
              "      <td>No</td>\n",
              "      <td>No</td>\n",
              "      <td>Sí</td>\n",
              "      <td>Developer</td>\n",
              "      <td>Amazon Web Services</td>\n",
              "      <td>CSS, HTML, Javascript, SQL, TypeScript</td>\n",
              "      <td>Angular, Node.js</td>\n",
              "      <td>Amazon DynamoDB, MongoDB, MySQL</td>\n",
              "      <td>Jest</td>\n",
              "      <td>Vim</td>\n",
              "      <td>macOS</td>\n",
              "      <td>Android</td>\n",
              "      <td>No</td>\n",
              "      <td>0.0</td>\n",
              "      <td>Porcentaje de mi sueldo</td>\n",
              "      <td>Full-Time</td>\n",
              "      <td>140000.0</td>\n",
              "      <td>106000.0</td>\n",
              "      <td>NaN</td>\n",
              "      <td>1</td>\n",
              "      <td>1</td>\n",
              "      <td>Menos de un sueldo</td>\n",
              "      <td>Performance individual</td>\n",
              "      <td>No</td>\n",
              "      <td>0.0</td>\n",
              "      <td>0</td>\n",
              "      <td>Jamás</td>\n",
              "      <td>Heterosexual</td>\n",
              "      <td>NaN</td>\n",
              "      <td>NaN</td>\n",
              "      <td>11-50</td>\n",
              "      <td>Servicios / Consultoría de Software / Digital</td>\n",
              "      <td>6</td>\n",
              "      <td>6</td>\n",
              "      <td>Clases de idiomas, Horarios flexibles, Vacacio...</td>\n",
              "      <td>NaN</td>\n",
              "    </tr>\n",
              "  </tbody>\n",
              "</table>\n",
              "</div>"
            ],
            "text/plain": [
              "  Me identifico  ...  ¿Cuáles considerás que son las mejores empresas de IT para trabajar en este momento, en tu ciudad?\n",
              "0         Mujer  ...                                                NaN                                                 \n",
              "1        Hombre  ...                                                NaN                                                 \n",
              "2         Mujer  ...                                                NaN                                                 \n",
              "3        Hombre  ...                                                NaN                                                 \n",
              "4        Hombre  ...                                                NaN                                                 \n",
              "\n",
              "[5 rows x 48 columns]"
            ]
          },
          "metadata": {
            "tags": []
          },
          "execution_count": 5
        }
      ]
    },
    {
      "cell_type": "code",
      "metadata": {
        "id": "qU24hg2vFmi0",
        "colab": {
          "base_uri": "https://localhost:8080/",
          "height": 768
        },
        "outputId": "866e8302-97e6-4a6e-843d-8503b1643eab"
      },
      "source": [
        "df.tail(5)"
      ],
      "execution_count": null,
      "outputs": [
        {
          "output_type": "execute_result",
          "data": {
            "text/html": [
              "<div>\n",
              "<style scoped>\n",
              "    .dataframe tbody tr th:only-of-type {\n",
              "        vertical-align: middle;\n",
              "    }\n",
              "\n",
              "    .dataframe tbody tr th {\n",
              "        vertical-align: top;\n",
              "    }\n",
              "\n",
              "    .dataframe thead th {\n",
              "        text-align: right;\n",
              "    }\n",
              "</style>\n",
              "<table border=\"1\" class=\"dataframe\">\n",
              "  <thead>\n",
              "    <tr style=\"text-align: right;\">\n",
              "      <th></th>\n",
              "      <th>Me identifico</th>\n",
              "      <th>Tengo</th>\n",
              "      <th>Estoy trabajando en</th>\n",
              "      <th>Dónde estás trabajando</th>\n",
              "      <th>Años de experiencia</th>\n",
              "      <th>Años en la empresa actual</th>\n",
              "      <th>Años en el puesto actual</th>\n",
              "      <th>¿Gente a cargo?</th>\n",
              "      <th>Nivel de estudios alcanzado</th>\n",
              "      <th>Estado</th>\n",
              "      <th>Carrera</th>\n",
              "      <th>Universidad</th>\n",
              "      <th>Realizaste cursos de especialización</th>\n",
              "      <th>¿Contribuís a proyectos open source?</th>\n",
              "      <th>¿Programás como hobbie?</th>\n",
              "      <th>Trabajo de</th>\n",
              "      <th>Plataformas</th>\n",
              "      <th>Lenguajes de programación</th>\n",
              "      <th>Frameworks, herramientas y librerías</th>\n",
              "      <th>Bases de datos</th>\n",
              "      <th>QA / Testing</th>\n",
              "      <th>IDEs</th>\n",
              "      <th>¿Qué SO usás en tu laptop/PC para trabajar?</th>\n",
              "      <th>¿Y en tu celular?</th>\n",
              "      <th>¿Tenés guardias?</th>\n",
              "      <th>Cuánto cobrás por guardia</th>\n",
              "      <th>¿Porcentaje, bruto o neto?</th>\n",
              "      <th>Tipo de contrato</th>\n",
              "      <th>Salario mensual BRUTO (en tu moneda local)</th>\n",
              "      <th>Salario mensual NETO (en tu moneda local)</th>\n",
              "      <th>Unnamed: 30</th>\n",
              "      <th>¿Qué tan conforme estás con tu sueldo?</th>\n",
              "      <th>Cómo creés que está tu sueldo con respecto al último semestre</th>\n",
              "      <th>Recibís algún tipo de bono</th>\n",
              "      <th>A qué está atado el bono</th>\n",
              "      <th>¿Tuviste ajustes por inflación en lo que va de 2020?</th>\n",
              "      <th>¿De qué % fue el ajuste total?</th>\n",
              "      <th>¿En qué mes fue el último ajuste?</th>\n",
              "      <th>¿Sufriste o presenciaste situaciones de violencia laboral?</th>\n",
              "      <th>Orientación sexual</th>\n",
              "      <th>¿Tenés algún tipo de discapacidad?</th>\n",
              "      <th>¿Sentís que esto te dificultó el conseguir trabajo?</th>\n",
              "      <th>Cantidad de empleados</th>\n",
              "      <th>Actividad principal</th>\n",
              "      <th>¿La recomendás como un buen lugar para trabajar?</th>\n",
              "      <th>¿Cómo calificás las políticas de diversidad e inclusión?</th>\n",
              "      <th>Beneficios extra</th>\n",
              "      <th>¿Cuáles considerás que son las mejores empresas de IT para trabajar en este momento, en tu ciudad?</th>\n",
              "    </tr>\n",
              "  </thead>\n",
              "  <tbody>\n",
              "    <tr>\n",
              "      <th>6090</th>\n",
              "      <td>Hombre</td>\n",
              "      <td>37</td>\n",
              "      <td>Argentina</td>\n",
              "      <td>Ciudad Autónoma de Buenos Aires</td>\n",
              "      <td>13.0</td>\n",
              "      <td>6.0</td>\n",
              "      <td>6.0</td>\n",
              "      <td>0</td>\n",
              "      <td>Terciario</td>\n",
              "      <td>Completado</td>\n",
              "      <td>Analista de Sistemas</td>\n",
              "      <td>IFTS (ex CENT) nro 5</td>\n",
              "      <td>No</td>\n",
              "      <td>No</td>\n",
              "      <td>Sí</td>\n",
              "      <td>Developer</td>\n",
              "      <td>Docker, Google Cloud Platform/App Engine, Linu...</td>\n",
              "      <td>.NET, C#, COBOL, CSS, HTML, Javascript, PHP, S...</td>\n",
              "      <td>Bootstrap, Drupal, jQuery, Symfony, WordPress</td>\n",
              "      <td>MariaDB, Microsoft SQL Server, MySQL</td>\n",
              "      <td>PHPUnit, SoapUI</td>\n",
              "      <td>Eclipse, NetBeans, Notepad++, Sublime Text, Vi...</td>\n",
              "      <td>Windows</td>\n",
              "      <td>Android</td>\n",
              "      <td>No</td>\n",
              "      <td>0.0</td>\n",
              "      <td>Porcentaje de mi sueldo</td>\n",
              "      <td>Full-Time</td>\n",
              "      <td>99000.0</td>\n",
              "      <td>97000.000</td>\n",
              "      <td>NaN</td>\n",
              "      <td>3</td>\n",
              "      <td>2</td>\n",
              "      <td>No</td>\n",
              "      <td>No recibo bono</td>\n",
              "      <td>No</td>\n",
              "      <td>0.0</td>\n",
              "      <td>0</td>\n",
              "      <td>En mi trabajo actual</td>\n",
              "      <td>Heterosexual</td>\n",
              "      <td>NaN</td>\n",
              "      <td>No</td>\n",
              "      <td>501-1000</td>\n",
              "      <td>Otras industrias</td>\n",
              "      <td>7</td>\n",
              "      <td>8</td>\n",
              "      <td>Viáticos</td>\n",
              "      <td>NaN</td>\n",
              "    </tr>\n",
              "    <tr>\n",
              "      <th>6091</th>\n",
              "      <td>Hombre</td>\n",
              "      <td>38</td>\n",
              "      <td>Argentina</td>\n",
              "      <td>Ciudad Autónoma de Buenos Aires</td>\n",
              "      <td>12.0</td>\n",
              "      <td>5.0</td>\n",
              "      <td>5.0</td>\n",
              "      <td>0</td>\n",
              "      <td>Universitario</td>\n",
              "      <td>En curso</td>\n",
              "      <td>Ingeniería en Sistemas de Información</td>\n",
              "      <td>UTN - Universidad Tecnológica Nacional</td>\n",
              "      <td>Sí, de forma particular, Sí, los pagó un emple...</td>\n",
              "      <td>No</td>\n",
              "      <td>No</td>\n",
              "      <td>SysAdmin / DevOps / SRE</td>\n",
              "      <td>Linux, OpenStack, VMWare, Windows Server</td>\n",
              "      <td>Ninguno de los anteriores</td>\n",
              "      <td>Ninguno de los anteriores</td>\n",
              "      <td>Microsoft SQL Server, MySQL, Oracle, PostgreSQL</td>\n",
              "      <td>Ninguna de las anteriores</td>\n",
              "      <td>Vi, Vim</td>\n",
              "      <td>Windows</td>\n",
              "      <td>Android</td>\n",
              "      <td>Sí, pasiva</td>\n",
              "      <td>10000.0</td>\n",
              "      <td>Porcentaje de mi sueldo</td>\n",
              "      <td>Full-Time</td>\n",
              "      <td>85000.0</td>\n",
              "      <td>71000.000</td>\n",
              "      <td>NaN</td>\n",
              "      <td>3</td>\n",
              "      <td>3</td>\n",
              "      <td>Un sueldo</td>\n",
              "      <td>Mix de las anteriores</td>\n",
              "      <td>Uno</td>\n",
              "      <td>14.0</td>\n",
              "      <td>6</td>\n",
              "      <td>Jamás</td>\n",
              "      <td>Heterosexual</td>\n",
              "      <td>NaN</td>\n",
              "      <td>NaN</td>\n",
              "      <td>2001-5000</td>\n",
              "      <td>Otras industrias</td>\n",
              "      <td>8</td>\n",
              "      <td>10</td>\n",
              "      <td>Abono de celular, Capacitaciones y/o cursos, D...</td>\n",
              "      <td>NaN</td>\n",
              "    </tr>\n",
              "    <tr>\n",
              "      <th>6092</th>\n",
              "      <td>Hombre</td>\n",
              "      <td>24</td>\n",
              "      <td>Argentina</td>\n",
              "      <td>Ciudad Autónoma de Buenos Aires</td>\n",
              "      <td>2.0</td>\n",
              "      <td>2.0</td>\n",
              "      <td>2.0</td>\n",
              "      <td>0</td>\n",
              "      <td>Terciario</td>\n",
              "      <td>En curso</td>\n",
              "      <td>Analista de Sistemas</td>\n",
              "      <td>ORT</td>\n",
              "      <td>Sí, de forma particular</td>\n",
              "      <td>No</td>\n",
              "      <td>Sí</td>\n",
              "      <td>QA / Tester</td>\n",
              "      <td>Ninguna de las anteriores</td>\n",
              "      <td>Ninguno de los anteriores</td>\n",
              "      <td>Ninguno de los anteriores</td>\n",
              "      <td>Ninguna de las anteriores</td>\n",
              "      <td>Ninguna de las anteriores</td>\n",
              "      <td>Ninguno de los anteriores</td>\n",
              "      <td>Windows</td>\n",
              "      <td>Android</td>\n",
              "      <td>No</td>\n",
              "      <td>0.0</td>\n",
              "      <td>Porcentaje de mi sueldo</td>\n",
              "      <td>Full-Time</td>\n",
              "      <td>47250.0</td>\n",
              "      <td>45.753</td>\n",
              "      <td>NaN</td>\n",
              "      <td>3</td>\n",
              "      <td>2</td>\n",
              "      <td>Menos de un sueldo</td>\n",
              "      <td>La situacion con el coronavirus</td>\n",
              "      <td>Uno</td>\n",
              "      <td>10.0</td>\n",
              "      <td>4</td>\n",
              "      <td>Jamás</td>\n",
              "      <td>Heterosexual</td>\n",
              "      <td>NaN</td>\n",
              "      <td>NaN</td>\n",
              "      <td>201-500</td>\n",
              "      <td>Producto basado en Software</td>\n",
              "      <td>7</td>\n",
              "      <td>9</td>\n",
              "      <td>Capacitaciones y/o cursos, Clases de idiomas, ...</td>\n",
              "      <td>Mercado Libre</td>\n",
              "    </tr>\n",
              "    <tr>\n",
              "      <th>6093</th>\n",
              "      <td>Hombre</td>\n",
              "      <td>28</td>\n",
              "      <td>Argentina</td>\n",
              "      <td>La Pampa</td>\n",
              "      <td>5.0</td>\n",
              "      <td>3.0</td>\n",
              "      <td>2.0</td>\n",
              "      <td>0</td>\n",
              "      <td>Terciario</td>\n",
              "      <td>En curso</td>\n",
              "      <td>Ingeniería en Sistemas de Información</td>\n",
              "      <td>UNLPAM</td>\n",
              "      <td>Sí, los pagó un empleador</td>\n",
              "      <td>No</td>\n",
              "      <td>Sí</td>\n",
              "      <td>SysAdmin / DevOps / SRE</td>\n",
              "      <td>Amazon Web Services, Docker, Kubernetes, Linux</td>\n",
              "      <td>C, C++, HTML, Java, Javascript, PHP, Python, SQL</td>\n",
              "      <td>Symfony</td>\n",
              "      <td>MariaDB, MongoDB, MySQL, Neo4j, PostgreSQL, Redis</td>\n",
              "      <td>PHPUnit, Postman</td>\n",
              "      <td>Nano, PHPStorm, PyCharm, Vim, Visual Studio Code</td>\n",
              "      <td>GNU/Linux</td>\n",
              "      <td>Android</td>\n",
              "      <td>Sí, pasiva</td>\n",
              "      <td>10.0</td>\n",
              "      <td>Neto</td>\n",
              "      <td>Full-Time</td>\n",
              "      <td>86000.0</td>\n",
              "      <td>72.000</td>\n",
              "      <td>NaN</td>\n",
              "      <td>2</td>\n",
              "      <td>1</td>\n",
              "      <td>No</td>\n",
              "      <td>No recibo bono</td>\n",
              "      <td>Uno</td>\n",
              "      <td>20.0</td>\n",
              "      <td>3</td>\n",
              "      <td>Jamás</td>\n",
              "      <td>Heterosexual</td>\n",
              "      <td>NaN</td>\n",
              "      <td>No</td>\n",
              "      <td>51-100</td>\n",
              "      <td>Servicios / Consultoría de Software / Digital</td>\n",
              "      <td>5</td>\n",
              "      <td>7</td>\n",
              "      <td>Capacitaciones y/o cursos</td>\n",
              "      <td>Solo Nubity</td>\n",
              "    </tr>\n",
              "    <tr>\n",
              "      <th>6094</th>\n",
              "      <td>Hombre</td>\n",
              "      <td>33</td>\n",
              "      <td>Argentina</td>\n",
              "      <td>GBA</td>\n",
              "      <td>5.0</td>\n",
              "      <td>5.0</td>\n",
              "      <td>3.0</td>\n",
              "      <td>0</td>\n",
              "      <td>Terciario</td>\n",
              "      <td>Incompleto</td>\n",
              "      <td>Analista de Sistemas</td>\n",
              "      <td>UAI - Universidad Abierta Interamericana</td>\n",
              "      <td>Sí, de forma particular</td>\n",
              "      <td>No</td>\n",
              "      <td>No</td>\n",
              "      <td>SysAdmin / DevOps / SRE</td>\n",
              "      <td>Linux, OpenStack, VMWare, Windows Server</td>\n",
              "      <td>Ninguno de los anteriores</td>\n",
              "      <td>Ninguno de los anteriores</td>\n",
              "      <td>Ninguna de las anteriores</td>\n",
              "      <td>Ninguna de las anteriores</td>\n",
              "      <td>Ninguno de los anteriores</td>\n",
              "      <td>Windows</td>\n",
              "      <td>iOS</td>\n",
              "      <td>No</td>\n",
              "      <td>0.0</td>\n",
              "      <td>Neto</td>\n",
              "      <td>Full-Time</td>\n",
              "      <td>85000.0</td>\n",
              "      <td>65000.000</td>\n",
              "      <td>NaN</td>\n",
              "      <td>3</td>\n",
              "      <td>3</td>\n",
              "      <td>No</td>\n",
              "      <td>No recibo bono</td>\n",
              "      <td>Dos</td>\n",
              "      <td>4.0</td>\n",
              "      <td>7</td>\n",
              "      <td>Jamás</td>\n",
              "      <td>Heterosexual</td>\n",
              "      <td>no</td>\n",
              "      <td>No</td>\n",
              "      <td>501-1000</td>\n",
              "      <td>Otras industrias</td>\n",
              "      <td>9</td>\n",
              "      <td>7</td>\n",
              "      <td>Abono de celular, Comidas pagas / subvencionadas</td>\n",
              "      <td>NaN</td>\n",
              "    </tr>\n",
              "  </tbody>\n",
              "</table>\n",
              "</div>"
            ],
            "text/plain": [
              "     Me identifico  ...  ¿Cuáles considerás que son las mejores empresas de IT para trabajar en este momento, en tu ciudad?\n",
              "6090        Hombre  ...                                                NaN                                                 \n",
              "6091        Hombre  ...                                                NaN                                                 \n",
              "6092        Hombre  ...                                      Mercado Libre                                                 \n",
              "6093        Hombre  ...                                        Solo Nubity                                                 \n",
              "6094        Hombre  ...                                                NaN                                                 \n",
              "\n",
              "[5 rows x 48 columns]"
            ]
          },
          "metadata": {
            "tags": []
          },
          "execution_count": 4
        }
      ]
    },
    {
      "cell_type": "markdown",
      "metadata": {
        "id": "7IyhITosDYFK"
      },
      "source": [
        "Tenemos ahora un objeto (que es una tabla, algo parecido a una hoja de Excel) que se llama `df`.\n",
        "\n",
        "---\n",
        "1. ¿Qué tipos de datos parece tener esta tabla?\n",
        "2. ¿Cuáles son las variables? ¿Cuáles las unidades de análisis?\n",
        "---\n"
      ]
    },
    {
      "cell_type": "code",
      "metadata": {
        "id": "Vxg5zgauINdC"
      },
      "source": [
        "## Resolve aca "
      ],
      "execution_count": null,
      "outputs": []
    },
    {
      "cell_type": "markdown",
      "metadata": {
        "id": "apK_Jmm3JDDm"
      },
      "source": [
        "Con `shape`podemos conocer las dimensiones del dataset y con `columns`observamos las columnas"
      ]
    },
    {
      "cell_type": "code",
      "metadata": {
        "colab": {
          "base_uri": "https://localhost:8080/"
        },
        "id": "z8O0iHtYIefq",
        "outputId": "f11dcf33-a874-402d-b119-30413d5b8261"
      },
      "source": [
        "print('Cantidad de Filas y columnas:', df.shape)"
      ],
      "execution_count": null,
      "outputs": [
        {
          "output_type": "stream",
          "text": [
            "Cantidad de Filas y columnas: (6095, 48)\n"
          ],
          "name": "stdout"
        }
      ]
    },
    {
      "cell_type": "code",
      "metadata": {
        "id": "20Mkg8J_Ies0",
        "colab": {
          "base_uri": "https://localhost:8080/"
        },
        "outputId": "930f6d52-5c74-4b19-dc5f-a06c73b7101d"
      },
      "source": [
        "print('Nombre columnas:', df.columns)"
      ],
      "execution_count": null,
      "outputs": [
        {
          "output_type": "stream",
          "text": [
            "Nombre columnas: Index(['Me identifico', 'Tengo', 'Estoy trabajando en',\n",
            "       'Dónde estás trabajando', 'Años de experiencia',\n",
            "       'Años en la empresa actual', 'Años en el puesto actual',\n",
            "       '¿Gente a cargo?', 'Nivel de estudios alcanzado', 'Estado', 'Carrera',\n",
            "       'Universidad', 'Realizaste cursos de especialización',\n",
            "       '¿Contribuís a proyectos open source?', '¿Programás como hobbie?',\n",
            "       'Trabajo de', 'Plataformas', 'Lenguajes de programación',\n",
            "       'Frameworks, herramientas y librerías', 'Bases de datos',\n",
            "       'QA / Testing', 'IDEs', '¿Qué SO usás en tu laptop/PC para trabajar?',\n",
            "       '¿Y en tu celular?', '¿Tenés guardias?', 'Cuánto cobrás por guardia',\n",
            "       '¿Porcentaje, bruto o neto?', 'Tipo de contrato',\n",
            "       'Salario mensual BRUTO (en tu moneda local)',\n",
            "       'Salario mensual NETO (en tu moneda local)', 'Unnamed: 30',\n",
            "       '¿Qué tan conforme estás con tu sueldo?',\n",
            "       'Cómo creés que está tu sueldo con respecto al último semestre',\n",
            "       'Recibís algún tipo de bono', 'A qué está atado el bono',\n",
            "       '¿Tuviste ajustes por inflación en lo que va de 2020?',\n",
            "       '¿De qué % fue el ajuste total?', '¿En qué mes fue el último ajuste?',\n",
            "       '¿Sufriste o presenciaste situaciones de violencia laboral?',\n",
            "       'Orientación sexual', '¿Tenés algún tipo de discapacidad?',\n",
            "       '¿Sentís que esto te dificultó el conseguir trabajo?',\n",
            "       'Cantidad de empleados', 'Actividad principal',\n",
            "       '¿La recomendás como un buen lugar para trabajar?',\n",
            "       '¿Cómo calificás las políticas de diversidad e inclusión?',\n",
            "       'Beneficios extra',\n",
            "       '¿Cuáles considerás que son las mejores empresas de IT para trabajar en este momento, en tu ciudad?'],\n",
            "      dtype='object')\n"
          ],
          "name": "stdout"
        }
      ]
    },
    {
      "cell_type": "markdown",
      "metadata": {
        "id": "7hPqJAun2h5A"
      },
      "source": [
        "## Renombrar columnas"
      ]
    },
    {
      "cell_type": "markdown",
      "metadata": {
        "id": "sO9wLpYI0l64"
      },
      "source": [
        "Para trabajar más cómodamente, renombraremos las columnas del DataFrame. Tengan cuidado de que el orden de los nombres nuevos se corresponda con el contenido de cada columna. Los nombres de las columnas tienen que ser autoexplicativos y transparentes para cualquier persona que lo lea."
      ]
    },
    {
      "cell_type": "code",
      "metadata": {
        "id": "K_G1sEljywQ3",
        "colab": {
          "base_uri": "https://localhost:8080/"
        },
        "outputId": "acbc1f1e-58fe-4d78-a6f7-e236f393024d"
      },
      "source": [
        "df.columns"
      ],
      "execution_count": null,
      "outputs": [
        {
          "output_type": "execute_result",
          "data": {
            "text/plain": [
              "Index(['Me identifico', 'Tengo', 'Estoy trabajando en',\n",
              "       'Dónde estás trabajando', 'Años de experiencia',\n",
              "       'Años en la empresa actual', 'Años en el puesto actual',\n",
              "       '¿Gente a cargo?', 'Nivel de estudios alcanzado', 'Estado', 'Carrera',\n",
              "       'Universidad', 'Realizaste cursos de especialización',\n",
              "       '¿Contribuís a proyectos open source?', '¿Programás como hobbie?',\n",
              "       'Trabajo de', 'Plataformas', 'Lenguajes de programación',\n",
              "       'Frameworks, herramientas y librerías', 'Bases de datos',\n",
              "       'QA / Testing', 'IDEs', '¿Qué SO usás en tu laptop/PC para trabajar?',\n",
              "       '¿Y en tu celular?', '¿Tenés guardias?', 'Cuánto cobrás por guardia',\n",
              "       '¿Porcentaje, bruto o neto?', 'Tipo de contrato',\n",
              "       'Salario mensual BRUTO (en tu moneda local)',\n",
              "       'Salario mensual NETO (en tu moneda local)', 'Unnamed: 30',\n",
              "       '¿Qué tan conforme estás con tu sueldo?',\n",
              "       'Cómo creés que está tu sueldo con respecto al último semestre',\n",
              "       'Recibís algún tipo de bono', 'A qué está atado el bono',\n",
              "       '¿Tuviste ajustes por inflación en lo que va de 2020?',\n",
              "       '¿De qué % fue el ajuste total?', '¿En qué mes fue el último ajuste?',\n",
              "       '¿Sufriste o presenciaste situaciones de violencia laboral?',\n",
              "       'Orientación sexual', '¿Tenés algún tipo de discapacidad?',\n",
              "       '¿Sentís que esto te dificultó el conseguir trabajo?',\n",
              "       'Cantidad de empleados', 'Actividad principal',\n",
              "       '¿La recomendás como un buen lugar para trabajar?',\n",
              "       '¿Cómo calificás las políticas de diversidad e inclusión?',\n",
              "       'Beneficios extra',\n",
              "       '¿Cuáles considerás que son las mejores empresas de IT para trabajar en este momento, en tu ciudad?'],\n",
              "      dtype='object')"
            ]
          },
          "metadata": {
            "tags": []
          },
          "execution_count": 28
        }
      ]
    },
    {
      "cell_type": "code",
      "metadata": {
        "id": "mhhPGu3L6N75"
      },
      "source": [
        "nuevas_columnas = {\n",
        "  'perfil': {\n",
        "      'Me identifico': 'genero',\n",
        "      'Tengo': 'edad',\n",
        "      'Años de experiencia':\n",
        "      'anos_experiencia',\n",
        "      'Nivel de estudios alcanzado': 'nivel_estudios',\n",
        "      'Estado': 'estado_estudios',\n",
        "      'Carrera': 'carrera',\n",
        "      'Universidad': 'universidad',\n",
        "      'Realizaste cursos de especialización': 'cursos_especializacion',\n",
        "      '¿Contribuís a proyectos open source?': 'contribuciones_open_source',\n",
        "      '¿Programás como hobbie?': 'programa_como_hobbie',\n",
        "      'Orientación sexual': 'orientacion_sexual',\n",
        "      '¿Tenés algún tipo de discapacidad?': 'discapacidad',\n",
        "      '¿Sentís que esto te dificultó el conseguir trabajo?': 'dificultad_ser_contratada_discapacidad',\n",
        "      '¿A qué eventos de tecnología asististe en el último año?': 'eventos_tecnologia_ultimo_anio'\n",
        "  },\n",
        "  'trabajo' : {\n",
        "      'Estoy trabajando en': 'pais',\n",
        "      'Dónde estás trabajando': 'provincia',\n",
        "      'Años en la empresa actual': 'anios_empresa_actual',\n",
        "      'Años en el puesto actual': 'anios_puesto_actual',\n",
        "      '¿Gente a cargo?': 'personas_a_cargo',\n",
        "      'Trabajo de': 'rol',\n",
        "      '¿Tenés guardias?': 'guardias ',\n",
        "      '¿Porcentaje, bruto o neto?': 'guardias_tipo_pago ',\n",
        "      'Tipo de contrato': 'tipo_contrato',\n",
        "      '¿Sufriste o presenciaste situaciones de violencia laboral?': 'violencia_laboral',\n",
        "  },\n",
        "  'herramientas': {\n",
        "      'Plataformas': 'plataforma', \n",
        "      'Lenguajes de programación': 'languagjs_programacion',\n",
        "      'Frameworks, herramientas y librerías': 'frameworks', \n",
        "      'Bases de datos': 'data_bases',\n",
        "      'QA / Testing': 'qa_testing',\n",
        "      'IDEs': 'IDEs',\n",
        "      '¿Qué SO usás en tu laptop/PC para trabajar?': 'sistema_operativo_pc',\n",
        "      '¿Y en tu celular?': 'sistema_operativo_cel'\n",
        "  },\n",
        "  'salario': {\n",
        "      'Cuánto cobrás por guardia': 'guardias_pago',\n",
        "      'Salario mensual BRUTO (en tu moneda local)': 'mensual_BRUTO',\n",
        "      'Salario mensual NETO (en tu moneda local)': 'mensual_NETO',\n",
        "      'Unnamed: 30': 'salario_dolares',\n",
        "      '¿Qué tan conforme estás con tu sueldo?': 'conformidad_sueldo',\n",
        "      'Cómo creés que está tu sueldo con respecto al último semestre': 'comparacion_sueldo_semestre_anterior ',\n",
        "      'Recibís algún tipo de bono': 'bonos',\n",
        "      'A qué está atado el bono': 'bono_atado_a ',\n",
        "      '¿Tuviste ajustes por inflación en lo que va de 2020?': 'ajustes_inflacion_2020 ',\n",
        "      '¿De qué % fue el ajuste total?': 'porcentaje_inflacion_ajuste_2020',\n",
        "      '¿En qué mes fue el último ajuste?': 'mes_ultimo_ajuste_inflacion ',\n",
        "  },\n",
        "  'compania' : {\n",
        "      'Cantidad de empleados': 'cantidad_empleadxs',\n",
        "      'Actividad principal': 'actividad_princiapl',\n",
        "      '¿La recomendás como un buen lugar para trabajar?': 'recomendacion_lugar_trabajo',\n",
        "      '¿Cómo calificás las políticas de diversidad e inclusión?': 'politicas_inclusion',\n",
        "      '¿A cuántos kilómetros de tu casa queda la oficina?': 'distancia_oficina_km',\n",
        "      'Beneficios extra': 'beneficios_extra',\n",
        "      '¿Cuáles considerás que son las mejores empresas de IT para trabajar en este momento, en tu ciudad?': 'mejor_compania_ciudad',\n",
        "  }\n",
        "}\n"
      ],
      "execution_count": null,
      "outputs": []
    },
    {
      "cell_type": "code",
      "metadata": {
        "id": "r0xlsKaBk0RL"
      },
      "source": [
        "def replace_columns(df, nuevas_columnas):\n",
        "  nuevo_nombre_columnas = {\n",
        "    nombre_original: category + '_' + nuevo_nombre # Para agregar en el nombre el prefijo de la categoría, por ejemplo 'perfil', 'trabajo'.\n",
        "    for category, cols in nuevas_columnas.items()\n",
        "    for nombre_original, nuevo_nombre in cols.items()\n",
        "  }\n",
        "  return df.rename(columns=nuevo_nombre_columnas)"
      ],
      "execution_count": null,
      "outputs": []
    },
    {
      "cell_type": "code",
      "metadata": {
        "id": "Vviv_sqXdR5W",
        "colab": {
          "base_uri": "https://localhost:8080/",
          "height": 377
        },
        "outputId": "3e0345ba-d4ee-4c12-b2f9-827a397d6e39"
      },
      "source": [
        "df_renamed = replace_columns(df, nuevas_columnas)\n",
        "df_renamed.head()"
      ],
      "execution_count": null,
      "outputs": [
        {
          "output_type": "execute_result",
          "data": {
            "text/html": [
              "<div>\n",
              "<style scoped>\n",
              "    .dataframe tbody tr th:only-of-type {\n",
              "        vertical-align: middle;\n",
              "    }\n",
              "\n",
              "    .dataframe tbody tr th {\n",
              "        vertical-align: top;\n",
              "    }\n",
              "\n",
              "    .dataframe thead th {\n",
              "        text-align: right;\n",
              "    }\n",
              "</style>\n",
              "<table border=\"1\" class=\"dataframe\">\n",
              "  <thead>\n",
              "    <tr style=\"text-align: right;\">\n",
              "      <th></th>\n",
              "      <th>perfil_genero</th>\n",
              "      <th>perfil_edad</th>\n",
              "      <th>trabajo_pais</th>\n",
              "      <th>trabajo_provincia</th>\n",
              "      <th>perfil_anos_experiencia</th>\n",
              "      <th>trabajo_anios_empresa_actual</th>\n",
              "      <th>trabajo_anios_puesto_actual</th>\n",
              "      <th>trabajo_personas_a_cargo</th>\n",
              "      <th>perfil_nivel_estudios</th>\n",
              "      <th>perfil_estado_estudios</th>\n",
              "      <th>perfil_carrera</th>\n",
              "      <th>perfil_universidad</th>\n",
              "      <th>perfil_cursos_especializacion</th>\n",
              "      <th>perfil_contribuciones_open_source</th>\n",
              "      <th>perfil_programa_como_hobbie</th>\n",
              "      <th>trabajo_rol</th>\n",
              "      <th>herramientas_plataforma</th>\n",
              "      <th>herramientas_languagjs_programacion</th>\n",
              "      <th>herramientas_frameworks</th>\n",
              "      <th>herramientas_data_bases</th>\n",
              "      <th>herramientas_qa_testing</th>\n",
              "      <th>herramientas_IDEs</th>\n",
              "      <th>herramientas_sistema_operativo_pc</th>\n",
              "      <th>herramientas_sistema_operativo_cel</th>\n",
              "      <th>trabajo_guardias</th>\n",
              "      <th>salario_guardias_pago</th>\n",
              "      <th>trabajo_guardias_tipo_pago</th>\n",
              "      <th>trabajo_tipo_contrato</th>\n",
              "      <th>salario_mensual_BRUTO</th>\n",
              "      <th>salario_mensual_NETO</th>\n",
              "      <th>salario_salario_dolares</th>\n",
              "      <th>salario_conformidad_sueldo</th>\n",
              "      <th>salario_comparacion_sueldo_semestre_anterior</th>\n",
              "      <th>salario_bonos</th>\n",
              "      <th>salario_bono_atado_a</th>\n",
              "      <th>salario_ajustes_inflacion_2020</th>\n",
              "      <th>salario_porcentaje_inflacion_ajuste_2020</th>\n",
              "      <th>salario_mes_ultimo_ajuste_inflacion</th>\n",
              "      <th>trabajo_violencia_laboral</th>\n",
              "      <th>perfil_orientacion_sexual</th>\n",
              "      <th>perfil_discapacidad</th>\n",
              "      <th>perfil_dificultad_ser_contratada_discapacidad</th>\n",
              "      <th>compania_cantidad_empleadxs</th>\n",
              "      <th>compania_actividad_princiapl</th>\n",
              "      <th>compania_recomendacion_lugar_trabajo</th>\n",
              "      <th>compania_politicas_inclusion</th>\n",
              "      <th>compania_beneficios_extra</th>\n",
              "      <th>compania_mejor_compania_ciudad</th>\n",
              "    </tr>\n",
              "  </thead>\n",
              "  <tbody>\n",
              "    <tr>\n",
              "      <th>0</th>\n",
              "      <td>Mujer</td>\n",
              "      <td>26</td>\n",
              "      <td>Argentina</td>\n",
              "      <td>Ciudad Autónoma de Buenos Aires</td>\n",
              "      <td>3.0</td>\n",
              "      <td>3.0</td>\n",
              "      <td>3.0</td>\n",
              "      <td>0</td>\n",
              "      <td>Universitario</td>\n",
              "      <td>En curso</td>\n",
              "      <td>Ingeniería en Sistemas de Información</td>\n",
              "      <td>UTN - Universidad Tecnológica Nacional</td>\n",
              "      <td>Sí, los pagó un empleador</td>\n",
              "      <td>No</td>\n",
              "      <td>Sí</td>\n",
              "      <td>Consultant</td>\n",
              "      <td>Ninguna</td>\n",
              "      <td>Ninguno</td>\n",
              "      <td>Ninguno</td>\n",
              "      <td>Ninguna</td>\n",
              "      <td>Ninguna</td>\n",
              "      <td>Ninguno</td>\n",
              "      <td>GNU/Linux</td>\n",
              "      <td>Android</td>\n",
              "      <td>No</td>\n",
              "      <td>0.0</td>\n",
              "      <td>Bruto</td>\n",
              "      <td>Full-Time</td>\n",
              "      <td>53000.0</td>\n",
              "      <td>43000.0</td>\n",
              "      <td>NaN</td>\n",
              "      <td>1</td>\n",
              "      <td>1</td>\n",
              "      <td>No</td>\n",
              "      <td>No recibo bono</td>\n",
              "      <td>No</td>\n",
              "      <td>0.0</td>\n",
              "      <td>0</td>\n",
              "      <td>En mi trabajo actual</td>\n",
              "      <td>Homosexual</td>\n",
              "      <td>NaN</td>\n",
              "      <td>NaN</td>\n",
              "      <td>501-1000</td>\n",
              "      <td>Servicios / Consultoría de Software / Digital</td>\n",
              "      <td>7</td>\n",
              "      <td>2</td>\n",
              "      <td>Capacitaciones y/o cursos, Comidas pagas / sub...</td>\n",
              "      <td>NaN</td>\n",
              "    </tr>\n",
              "    <tr>\n",
              "      <th>1</th>\n",
              "      <td>Hombre</td>\n",
              "      <td>29</td>\n",
              "      <td>Argentina</td>\n",
              "      <td>Corrientes</td>\n",
              "      <td>5.0</td>\n",
              "      <td>2.0</td>\n",
              "      <td>2.0</td>\n",
              "      <td>4</td>\n",
              "      <td>Universitario</td>\n",
              "      <td>En curso</td>\n",
              "      <td>Ingeniería en Sistemas de Información</td>\n",
              "      <td>UTN - Universidad Tecnológica Nacional</td>\n",
              "      <td>Sí, de forma particular, Sí, los pagó un emple...</td>\n",
              "      <td>No</td>\n",
              "      <td>Sí</td>\n",
              "      <td>Developer</td>\n",
              "      <td>Docker, Google Cloud Platform/App Engine</td>\n",
              "      <td>HTML, Javascript, Python</td>\n",
              "      <td>Django, jQuery</td>\n",
              "      <td>Informix, MySQL, PostgreSQL</td>\n",
              "      <td>Ninguna</td>\n",
              "      <td>IPython / Jupyter, Sublime Text, Visual Studio...</td>\n",
              "      <td>GNU/Linux</td>\n",
              "      <td>Android</td>\n",
              "      <td>No</td>\n",
              "      <td>0.0</td>\n",
              "      <td>Bruto</td>\n",
              "      <td>Full-Time</td>\n",
              "      <td>79000.0</td>\n",
              "      <td>63000.0</td>\n",
              "      <td>NaN</td>\n",
              "      <td>2</td>\n",
              "      <td>2</td>\n",
              "      <td>Menos de un sueldo</td>\n",
              "      <td>Performance de la compañía</td>\n",
              "      <td>Uno</td>\n",
              "      <td>10.0</td>\n",
              "      <td>1</td>\n",
              "      <td>Jamás</td>\n",
              "      <td>Heterosexual</td>\n",
              "      <td>Visual</td>\n",
              "      <td>No</td>\n",
              "      <td>201-500</td>\n",
              "      <td>Otras industrias</td>\n",
              "      <td>8</td>\n",
              "      <td>9</td>\n",
              "      <td>Horarios flexibles, Stock options / RSUs, Viát...</td>\n",
              "      <td>NaN</td>\n",
              "    </tr>\n",
              "    <tr>\n",
              "      <th>2</th>\n",
              "      <td>Mujer</td>\n",
              "      <td>22</td>\n",
              "      <td>Argentina</td>\n",
              "      <td>Ciudad Autónoma de Buenos Aires</td>\n",
              "      <td>2.0</td>\n",
              "      <td>0.0</td>\n",
              "      <td>0.0</td>\n",
              "      <td>0</td>\n",
              "      <td>Secundario</td>\n",
              "      <td>Completado</td>\n",
              "      <td>NaN</td>\n",
              "      <td>NaN</td>\n",
              "      <td>Sí, de forma particular, Sí, los pagó un emple...</td>\n",
              "      <td>No</td>\n",
              "      <td>Sí</td>\n",
              "      <td>Infosec</td>\n",
              "      <td>Linux, VMWare</td>\n",
              "      <td>Ninguno</td>\n",
              "      <td>Ninguno</td>\n",
              "      <td>Ninguna</td>\n",
              "      <td>Ninguna</td>\n",
              "      <td>Ninguno</td>\n",
              "      <td>Windows</td>\n",
              "      <td>iOS</td>\n",
              "      <td>No</td>\n",
              "      <td>0.0</td>\n",
              "      <td>Porcentaje de mi sueldo</td>\n",
              "      <td>Full-Time</td>\n",
              "      <td>160000.0</td>\n",
              "      <td>127000.0</td>\n",
              "      <td>NaN</td>\n",
              "      <td>3</td>\n",
              "      <td>3</td>\n",
              "      <td>Un sueldo</td>\n",
              "      <td>Performance individual</td>\n",
              "      <td>No</td>\n",
              "      <td>0.0</td>\n",
              "      <td>0</td>\n",
              "      <td>En un trabajo anterior</td>\n",
              "      <td>Bisexual o queer</td>\n",
              "      <td>NaN</td>\n",
              "      <td>No</td>\n",
              "      <td>2001-5000</td>\n",
              "      <td>Otras industrias</td>\n",
              "      <td>6</td>\n",
              "      <td>9</td>\n",
              "      <td>Clases de gimnasia online, Comidas pagas / sub...</td>\n",
              "      <td>NaN</td>\n",
              "    </tr>\n",
              "    <tr>\n",
              "      <th>3</th>\n",
              "      <td>Hombre</td>\n",
              "      <td>39</td>\n",
              "      <td>Argentina</td>\n",
              "      <td>Corrientes</td>\n",
              "      <td>15.0</td>\n",
              "      <td>15.0</td>\n",
              "      <td>13.0</td>\n",
              "      <td>5</td>\n",
              "      <td>Posgrado</td>\n",
              "      <td>Incompleto</td>\n",
              "      <td>Licenciatura en Sistemas</td>\n",
              "      <td>UNNE Universidad Nacional del Nordeste</td>\n",
              "      <td>Sí, de forma particular, Sí, los pagó un emple...</td>\n",
              "      <td>Sí</td>\n",
              "      <td>Sí</td>\n",
              "      <td>SysAdmin / DevOps / SRE</td>\n",
              "      <td>Docker, Linux, OpenStack, VMWare, Windows Server</td>\n",
              "      <td>Bash/Shell, C, CSS, HTML, Java, Javascript, PH...</td>\n",
              "      <td>jQuery, WordPress</td>\n",
              "      <td>Microsoft SQL Server, MySQL</td>\n",
              "      <td>PHPUnit</td>\n",
              "      <td>Eclipse, Visual Studio Code</td>\n",
              "      <td>GNU/Linux</td>\n",
              "      <td>Android</td>\n",
              "      <td>Sí, pasiva</td>\n",
              "      <td>0.0</td>\n",
              "      <td>Bruto</td>\n",
              "      <td>Full-Time</td>\n",
              "      <td>130000.0</td>\n",
              "      <td>102000.0</td>\n",
              "      <td>NaN</td>\n",
              "      <td>3</td>\n",
              "      <td>1</td>\n",
              "      <td>No</td>\n",
              "      <td>No recibo bono</td>\n",
              "      <td>No</td>\n",
              "      <td>0.0</td>\n",
              "      <td>0</td>\n",
              "      <td>En mi trabajo actual</td>\n",
              "      <td>Heterosexual</td>\n",
              "      <td>NaN</td>\n",
              "      <td>NaN</td>\n",
              "      <td>501-1000</td>\n",
              "      <td>Otras industrias</td>\n",
              "      <td>7</td>\n",
              "      <td>6</td>\n",
              "      <td>Abono de celular, Capacitaciones y/o cursos, C...</td>\n",
              "      <td>NaN</td>\n",
              "    </tr>\n",
              "    <tr>\n",
              "      <th>4</th>\n",
              "      <td>Hombre</td>\n",
              "      <td>32</td>\n",
              "      <td>Argentina</td>\n",
              "      <td>Ciudad Autónoma de Buenos Aires</td>\n",
              "      <td>9.0</td>\n",
              "      <td>6.0</td>\n",
              "      <td>6.0</td>\n",
              "      <td>0</td>\n",
              "      <td>Universitario</td>\n",
              "      <td>En curso</td>\n",
              "      <td>Licenciatura en Ciencias dela Computación</td>\n",
              "      <td>UBA - Universidad de Buenos Aires</td>\n",
              "      <td>No</td>\n",
              "      <td>No</td>\n",
              "      <td>Sí</td>\n",
              "      <td>Developer</td>\n",
              "      <td>Amazon Web Services</td>\n",
              "      <td>CSS, HTML, Javascript, SQL, TypeScript</td>\n",
              "      <td>Angular, Node.js</td>\n",
              "      <td>Amazon DynamoDB, MongoDB, MySQL</td>\n",
              "      <td>Jest</td>\n",
              "      <td>Vim</td>\n",
              "      <td>macOS</td>\n",
              "      <td>Android</td>\n",
              "      <td>No</td>\n",
              "      <td>0.0</td>\n",
              "      <td>Porcentaje de mi sueldo</td>\n",
              "      <td>Full-Time</td>\n",
              "      <td>140000.0</td>\n",
              "      <td>106000.0</td>\n",
              "      <td>NaN</td>\n",
              "      <td>1</td>\n",
              "      <td>1</td>\n",
              "      <td>Menos de un sueldo</td>\n",
              "      <td>Performance individual</td>\n",
              "      <td>No</td>\n",
              "      <td>0.0</td>\n",
              "      <td>0</td>\n",
              "      <td>Jamás</td>\n",
              "      <td>Heterosexual</td>\n",
              "      <td>NaN</td>\n",
              "      <td>NaN</td>\n",
              "      <td>11-50</td>\n",
              "      <td>Servicios / Consultoría de Software / Digital</td>\n",
              "      <td>6</td>\n",
              "      <td>6</td>\n",
              "      <td>Clases de idiomas, Horarios flexibles, Vacacio...</td>\n",
              "      <td>NaN</td>\n",
              "    </tr>\n",
              "  </tbody>\n",
              "</table>\n",
              "</div>"
            ],
            "text/plain": [
              "  perfil_genero  ...  compania_mejor_compania_ciudad\n",
              "0         Mujer  ...                             NaN\n",
              "1        Hombre  ...                             NaN\n",
              "2         Mujer  ...                             NaN\n",
              "3        Hombre  ...                             NaN\n",
              "4        Hombre  ...                             NaN\n",
              "\n",
              "[5 rows x 48 columns]"
            ]
          },
          "metadata": {
            "tags": []
          },
          "execution_count": 33
        }
      ]
    },
    {
      "cell_type": "markdown",
      "metadata": {
        "id": "Yi5l03AHIVv_"
      },
      "source": [
        "Podemos ver más en detalle las **características del dataset** de la siguente forma:"
      ]
    },
    {
      "cell_type": "code",
      "metadata": {
        "id": "Gw4tRaf1I2p8",
        "colab": {
          "base_uri": "https://localhost:8080/"
        },
        "outputId": "6e7bb779-d837-4361-8b04-8e5c95432cfd"
      },
      "source": [
        "df_renamed.info()"
      ],
      "execution_count": null,
      "outputs": [
        {
          "output_type": "stream",
          "text": [
            "<class 'pandas.core.frame.DataFrame'>\n",
            "RangeIndex: 6095 entries, 0 to 6094\n",
            "Data columns (total 48 columns):\n",
            " #   Column                                         Non-Null Count  Dtype  \n",
            "---  ------                                         --------------  -----  \n",
            " 0   perfil_genero                                  6095 non-null   object \n",
            " 1   perfil_edad                                    6095 non-null   int64  \n",
            " 2   trabajo_pais                                   6095 non-null   object \n",
            " 3   trabajo_provincia                              6095 non-null   object \n",
            " 4   perfil_anos_experiencia                        6095 non-null   float64\n",
            " 5   trabajo_anios_empresa_actual                   6095 non-null   float64\n",
            " 6   trabajo_anios_puesto_actual                    6095 non-null   float64\n",
            " 7   trabajo_personas_a_cargo                       6095 non-null   int64  \n",
            " 8   perfil_nivel_estudios                          6095 non-null   object \n",
            " 9   perfil_estado_estudios                         6095 non-null   object \n",
            " 10  perfil_carrera                                 5796 non-null   object \n",
            " 11  perfil_universidad                             5561 non-null   object \n",
            " 12  perfil_cursos_especializacion                  6095 non-null   object \n",
            " 13  perfil_contribuciones_open_source              6095 non-null   object \n",
            " 14  perfil_programa_como_hobbie                    6095 non-null   object \n",
            " 15  trabajo_rol                                    6095 non-null   object \n",
            " 16  herramientas_plataforma                        6093 non-null   object \n",
            " 17  herramientas_languagjs_programacion            6094 non-null   object \n",
            " 18  herramientas_frameworks                        6094 non-null   object \n",
            " 19  herramientas_data_bases                        6093 non-null   object \n",
            " 20  herramientas_qa_testing                        6089 non-null   object \n",
            " 21  herramientas_IDEs                              6094 non-null   object \n",
            " 22  herramientas_sistema_operativo_pc              6095 non-null   object \n",
            " 23  herramientas_sistema_operativo_cel             6095 non-null   object \n",
            " 24  trabajo_guardias                               6095 non-null   object \n",
            " 25  salario_guardias_pago                          6095 non-null   float64\n",
            " 26  trabajo_guardias_tipo_pago                     6095 non-null   object \n",
            " 27  trabajo_tipo_contrato                          6095 non-null   object \n",
            " 28  salario_mensual_BRUTO                          6095 non-null   float64\n",
            " 29  salario_mensual_NETO                           5883 non-null   float64\n",
            " 30  salario_salario_dolares                        676 non-null    object \n",
            " 31  salario_conformidad_sueldo                     6095 non-null   int64  \n",
            " 32  salario_comparacion_sueldo_semestre_anterior   6095 non-null   int64  \n",
            " 33  salario_bonos                                  6095 non-null   object \n",
            " 34  salario_bono_atado_a                           6095 non-null   object \n",
            " 35  salario_ajustes_inflacion_2020                 6095 non-null   object \n",
            " 36  salario_porcentaje_inflacion_ajuste_2020       6095 non-null   float64\n",
            " 37  salario_mes_ultimo_ajuste_inflacion            6095 non-null   int64  \n",
            " 38  trabajo_violencia_laboral                      5954 non-null   object \n",
            " 39  perfil_orientacion_sexual                      5912 non-null   object \n",
            " 40  perfil_discapacidad                            600 non-null    object \n",
            " 41  perfil_dificultad_ser_contratada_discapacidad  2207 non-null   object \n",
            " 42  compania_cantidad_empleadxs                    6095 non-null   object \n",
            " 43  compania_actividad_princiapl                   6095 non-null   object \n",
            " 44  compania_recomendacion_lugar_trabajo           6095 non-null   int64  \n",
            " 45  compania_politicas_inclusion                   6095 non-null   int64  \n",
            " 46  compania_beneficios_extra                      6094 non-null   object \n",
            " 47  compania_mejor_compania_ciudad                 1692 non-null   object \n",
            "dtypes: float64(7), int64(7), object(34)\n",
            "memory usage: 2.2+ MB\n"
          ],
          "name": "stdout"
        }
      ]
    },
    {
      "cell_type": "markdown",
      "metadata": {
        "id": "e6lmr8M2Nea5"
      },
      "source": [
        "¿Cuántos **varones**, **mujeres** y **otros** respondieron la encuesta? Lo vemos usando `value_counts()` \n",
        "\n",
        "¿De que tipo de variable se trata?\n",
        "\n",
        "\n"
      ]
    },
    {
      "cell_type": "code",
      "metadata": {
        "id": "3VG5ufvXSrHm",
        "colab": {
          "base_uri": "https://localhost:8080/"
        },
        "outputId": "03b83b9a-c236-4d9f-ff39-e06615aabad3"
      },
      "source": [
        "df_renamed['perfil_genero'].value_counts()"
      ],
      "execution_count": null,
      "outputs": [
        {
          "output_type": "execute_result",
          "data": {
            "text/plain": [
              "Hombre    5122\n",
              "Mujer      942\n",
              "Otros       31\n",
              "Name: perfil_genero, dtype: int64"
            ]
          },
          "metadata": {
            "tags": []
          },
          "execution_count": 14
        }
      ]
    },
    {
      "cell_type": "code",
      "metadata": {
        "id": "uUlsm_YrWkpO"
      },
      "source": [
        "# Resolvé aca "
      ],
      "execution_count": null,
      "outputs": []
    },
    {
      "cell_type": "markdown",
      "metadata": {
        "id": "eJxiADzqHBzj"
      },
      "source": [
        "¿Te animás a calcular cuántas personas encuestadas tienen **estudios completos**, en **curso** o **incompletos**?\n",
        "\n",
        "¿Te parece que el tipo de variable es diferente a la anterior?\n",
        "\n"
      ]
    },
    {
      "cell_type": "code",
      "metadata": {
        "id": "87zfROesHBOG",
        "colab": {
          "base_uri": "https://localhost:8080/"
        },
        "outputId": "19f1e350-6ef7-47ad-803a-742e496b0118"
      },
      "source": [
        "df_renamed['perfil_nivel_estudios'].value_counts()"
      ],
      "execution_count": null,
      "outputs": [
        {
          "output_type": "execute_result",
          "data": {
            "text/plain": [
              "Universitario    4133\n",
              "Terciario        1135\n",
              "Secundario        449\n",
              "Posgrado          342\n",
              "Doctorado          30\n",
              "Posdoctorado        4\n",
              "Primario            2\n",
              "Name: perfil_nivel_estudios, dtype: int64"
            ]
          },
          "metadata": {
            "tags": []
          },
          "execution_count": 35
        }
      ]
    },
    {
      "cell_type": "markdown",
      "metadata": {
        "id": "jPkukuBaHmWP"
      },
      "source": [
        "Ahora vamos a sacar algunos estadísticos de los campos numéricos del dataset. ¿Qué podemos empezar a observar sobre el **Sueldo Bruto**?"
      ]
    },
    {
      "cell_type": "code",
      "metadata": {
        "id": "XCbScglSIpvI",
        "colab": {
          "base_uri": "https://localhost:8080/",
          "height": 317
        },
        "outputId": "6862067c-55ca-40a1-8482-751b9966cced"
      },
      "source": [
        "df_renamed.describe() #Utilizamos describe para calcular los estadísticos"
      ],
      "execution_count": null,
      "outputs": [
        {
          "output_type": "execute_result",
          "data": {
            "text/html": [
              "<div>\n",
              "<style scoped>\n",
              "    .dataframe tbody tr th:only-of-type {\n",
              "        vertical-align: middle;\n",
              "    }\n",
              "\n",
              "    .dataframe tbody tr th {\n",
              "        vertical-align: top;\n",
              "    }\n",
              "\n",
              "    .dataframe thead th {\n",
              "        text-align: right;\n",
              "    }\n",
              "</style>\n",
              "<table border=\"1\" class=\"dataframe\">\n",
              "  <thead>\n",
              "    <tr style=\"text-align: right;\">\n",
              "      <th></th>\n",
              "      <th>perfil_edad</th>\n",
              "      <th>perfil_anos_experiencia</th>\n",
              "      <th>trabajo_anios_empresa_actual</th>\n",
              "      <th>trabajo_anios_puesto_actual</th>\n",
              "      <th>trabajo_personas_a_cargo</th>\n",
              "      <th>salario_guardias_pago</th>\n",
              "      <th>salario_mensual_BRUTO</th>\n",
              "      <th>salario_mensual_NETO</th>\n",
              "      <th>salario_conformidad_sueldo</th>\n",
              "      <th>salario_comparacion_sueldo_semestre_anterior</th>\n",
              "      <th>salario_porcentaje_inflacion_ajuste_2020</th>\n",
              "      <th>salario_mes_ultimo_ajuste_inflacion</th>\n",
              "      <th>compania_recomendacion_lugar_trabajo</th>\n",
              "      <th>compania_politicas_inclusion</th>\n",
              "    </tr>\n",
              "  </thead>\n",
              "  <tbody>\n",
              "    <tr>\n",
              "      <th>count</th>\n",
              "      <td>6095.000000</td>\n",
              "      <td>6095.000000</td>\n",
              "      <td>6095.000000</td>\n",
              "      <td>6095.000000</td>\n",
              "      <td>6095.000000</td>\n",
              "      <td>6095.000000</td>\n",
              "      <td>6.095000e+03</td>\n",
              "      <td>5.883000e+03</td>\n",
              "      <td>6095.000000</td>\n",
              "      <td>6095.000000</td>\n",
              "      <td>6095.000000</td>\n",
              "      <td>6095.000000</td>\n",
              "      <td>6095.000000</td>\n",
              "      <td>6095.000000</td>\n",
              "    </tr>\n",
              "    <tr>\n",
              "      <th>mean</th>\n",
              "      <td>41.181952</td>\n",
              "      <td>8.930861</td>\n",
              "      <td>3.311944</td>\n",
              "      <td>2.889770</td>\n",
              "      <td>2.211649</td>\n",
              "      <td>664.042084</td>\n",
              "      <td>1.240585e+05</td>\n",
              "      <td>9.490795e+04</td>\n",
              "      <td>2.619524</td>\n",
              "      <td>2.363577</td>\n",
              "      <td>10.444511</td>\n",
              "      <td>2.785562</td>\n",
              "      <td>7.340115</td>\n",
              "      <td>7.621001</td>\n",
              "    </tr>\n",
              "    <tr>\n",
              "      <th>std</th>\n",
              "      <td>665.721175</td>\n",
              "      <td>7.161094</td>\n",
              "      <td>4.367742</td>\n",
              "      <td>3.423228</td>\n",
              "      <td>32.983395</td>\n",
              "      <td>10540.523461</td>\n",
              "      <td>1.229124e+05</td>\n",
              "      <td>9.686226e+04</td>\n",
              "      <td>0.858621</td>\n",
              "      <td>0.945713</td>\n",
              "      <td>12.860433</td>\n",
              "      <td>2.837195</td>\n",
              "      <td>2.024057</td>\n",
              "      <td>2.324034</td>\n",
              "    </tr>\n",
              "    <tr>\n",
              "      <th>min</th>\n",
              "      <td>18.000000</td>\n",
              "      <td>0.000000</td>\n",
              "      <td>0.000000</td>\n",
              "      <td>0.000000</td>\n",
              "      <td>0.000000</td>\n",
              "      <td>0.000000</td>\n",
              "      <td>1.000000e+00</td>\n",
              "      <td>1.000000e+00</td>\n",
              "      <td>1.000000</td>\n",
              "      <td>1.000000</td>\n",
              "      <td>0.000000</td>\n",
              "      <td>0.000000</td>\n",
              "      <td>1.000000</td>\n",
              "      <td>1.000000</td>\n",
              "    </tr>\n",
              "    <tr>\n",
              "      <th>25%</th>\n",
              "      <td>27.000000</td>\n",
              "      <td>3.000000</td>\n",
              "      <td>0.000000</td>\n",
              "      <td>1.000000</td>\n",
              "      <td>0.000000</td>\n",
              "      <td>0.000000</td>\n",
              "      <td>6.159500e+04</td>\n",
              "      <td>5.148000e+04</td>\n",
              "      <td>2.000000</td>\n",
              "      <td>2.000000</td>\n",
              "      <td>0.000000</td>\n",
              "      <td>0.000000</td>\n",
              "      <td>6.000000</td>\n",
              "      <td>6.000000</td>\n",
              "    </tr>\n",
              "    <tr>\n",
              "      <th>50%</th>\n",
              "      <td>31.000000</td>\n",
              "      <td>7.000000</td>\n",
              "      <td>2.000000</td>\n",
              "      <td>2.000000</td>\n",
              "      <td>0.000000</td>\n",
              "      <td>0.000000</td>\n",
              "      <td>9.600000e+04</td>\n",
              "      <td>7.800000e+04</td>\n",
              "      <td>3.000000</td>\n",
              "      <td>2.000000</td>\n",
              "      <td>7.000000</td>\n",
              "      <td>2.000000</td>\n",
              "      <td>8.000000</td>\n",
              "      <td>8.000000</td>\n",
              "    </tr>\n",
              "    <tr>\n",
              "      <th>75%</th>\n",
              "      <td>37.000000</td>\n",
              "      <td>13.000000</td>\n",
              "      <td>4.000000</td>\n",
              "      <td>4.000000</td>\n",
              "      <td>0.000000</td>\n",
              "      <td>0.000000</td>\n",
              "      <td>1.450000e+05</td>\n",
              "      <td>1.060000e+05</td>\n",
              "      <td>3.000000</td>\n",
              "      <td>3.000000</td>\n",
              "      <td>18.000000</td>\n",
              "      <td>6.000000</td>\n",
              "      <td>9.000000</td>\n",
              "      <td>10.000000</td>\n",
              "    </tr>\n",
              "    <tr>\n",
              "      <th>max</th>\n",
              "      <td>52000.000000</td>\n",
              "      <td>115.000000</td>\n",
              "      <td>43.000000</td>\n",
              "      <td>34.000000</td>\n",
              "      <td>2500.000000</td>\n",
              "      <td>650000.000000</td>\n",
              "      <td>2.180000e+06</td>\n",
              "      <td>2.080000e+06</td>\n",
              "      <td>4.000000</td>\n",
              "      <td>4.000000</td>\n",
              "      <td>100.000000</td>\n",
              "      <td>8.000000</td>\n",
              "      <td>10.000000</td>\n",
              "      <td>10.000000</td>\n",
              "    </tr>\n",
              "  </tbody>\n",
              "</table>\n",
              "</div>"
            ],
            "text/plain": [
              "        perfil_edad  ...  compania_politicas_inclusion\n",
              "count   6095.000000  ...                   6095.000000\n",
              "mean      41.181952  ...                      7.621001\n",
              "std      665.721175  ...                      2.324034\n",
              "min       18.000000  ...                      1.000000\n",
              "25%       27.000000  ...                      6.000000\n",
              "50%       31.000000  ...                      8.000000\n",
              "75%       37.000000  ...                     10.000000\n",
              "max    52000.000000  ...                     10.000000\n",
              "\n",
              "[8 rows x 14 columns]"
            ]
          },
          "metadata": {
            "tags": []
          },
          "execution_count": 17
        }
      ]
    },
    {
      "cell_type": "code",
      "metadata": {
        "colab": {
          "base_uri": "https://localhost:8080/"
        },
        "id": "o_VeriaSwLOe",
        "outputId": "4ddf0f5a-35e2-47f8-bce2-ec6645483387"
      },
      "source": [
        "df_renamed['salario_mensual_BRUTO'].mean()"
      ],
      "execution_count": null,
      "outputs": [
        {
          "output_type": "execute_result",
          "data": {
            "text/plain": [
              "124058.54962132902"
            ]
          },
          "metadata": {
            "tags": []
          },
          "execution_count": 18
        }
      ]
    },
    {
      "cell_type": "code",
      "metadata": {
        "colab": {
          "base_uri": "https://localhost:8080/"
        },
        "id": "pMjY7Ofzw9K1",
        "outputId": "4e5d2963-8c35-4567-9ca9-0c06a53170a9"
      },
      "source": [
        "df_renamed['salario_mensual_BRUTO'].median()"
      ],
      "execution_count": null,
      "outputs": [
        {
          "output_type": "execute_result",
          "data": {
            "text/plain": [
              "96000.0"
            ]
          },
          "metadata": {
            "tags": []
          },
          "execution_count": 19
        }
      ]
    },
    {
      "cell_type": "markdown",
      "metadata": {
        "id": "SO8joWObMEs2"
      },
      "source": [
        "## Análisis de salarios\n",
        "Una de las variables más interesantes del dataset es el **Salario Mensual Neto** de las personas encuestadas. A su vez, contamos con la variable Género que podría aportarnos información sobre la existencia de brechas de ingresos entre mujeres, varones y diversidades. \n"
      ]
    },
    {
      "cell_type": "markdown",
      "metadata": {
        "id": "7_npUnNDIrjl"
      },
      "source": [
        "Planteamos una primer hipótesis: a mayor nivel de estudio, mejor sueldo tienen las personas encuestadas. \n",
        "Para calcularlo, vamos a quedarnos solamente con las columnas que nos interesan: género, nivel de estudios y salario bruto."
      ]
    },
    {
      "cell_type": "code",
      "metadata": {
        "id": "IcMXeFWB8WV3"
      },
      "source": [
        "df_3 = df_renamed[[\"perfil_genero\", \"perfil_nivel_estudios\", \"salario_mensual_BRUTO\"]] #Seleccionamos las columnas que vamos a utilizar"
      ],
      "execution_count": null,
      "outputs": []
    },
    {
      "cell_type": "code",
      "metadata": {
        "colab": {
          "base_uri": "https://localhost:8080/"
        },
        "id": "0P8u0rEPAtbK",
        "outputId": "8443e166-1502-4296-880c-7d5144a9d369"
      },
      "source": [
        "print(df_3) #Imprimimos nuestro nuevo dataset\n"
      ],
      "execution_count": null,
      "outputs": [
        {
          "output_type": "stream",
          "text": [
            "     perfil_genero perfil_nivel_estudios  salario_mensual_BRUTO\n",
            "0            Mujer         Universitario                53000.0\n",
            "1           Hombre         Universitario                79000.0\n",
            "2            Mujer            Secundario               160000.0\n",
            "3           Hombre              Posgrado               130000.0\n",
            "4           Hombre         Universitario               140000.0\n",
            "...            ...                   ...                    ...\n",
            "6090        Hombre             Terciario                99000.0\n",
            "6091        Hombre         Universitario                85000.0\n",
            "6092        Hombre             Terciario                47250.0\n",
            "6093        Hombre             Terciario                86000.0\n",
            "6094        Hombre             Terciario                85000.0\n",
            "\n",
            "[6095 rows x 3 columns]\n"
          ],
          "name": "stdout"
        }
      ]
    },
    {
      "cell_type": "markdown",
      "metadata": {
        "id": "qBWhUnKJtrVd"
      },
      "source": [
        "Vamos a calcular el sueldo promedio según el nivel de estudio. Para eso, vamos a agrupar por categorías:  "
      ]
    },
    {
      "cell_type": "code",
      "metadata": {
        "colab": {
          "base_uri": "https://localhost:8080/",
          "height": 297
        },
        "id": "ONqmhRJNAxC1",
        "outputId": "b5ac44bb-96e6-49c1-dd5a-52d1f7ead603"
      },
      "source": [
        "df_3.groupby(by=\"perfil_nivel_estudios\").mean()\n"
      ],
      "execution_count": null,
      "outputs": [
        {
          "output_type": "execute_result",
          "data": {
            "text/html": [
              "<div>\n",
              "<style scoped>\n",
              "    .dataframe tbody tr th:only-of-type {\n",
              "        vertical-align: middle;\n",
              "    }\n",
              "\n",
              "    .dataframe tbody tr th {\n",
              "        vertical-align: top;\n",
              "    }\n",
              "\n",
              "    .dataframe thead th {\n",
              "        text-align: right;\n",
              "    }\n",
              "</style>\n",
              "<table border=\"1\" class=\"dataframe\">\n",
              "  <thead>\n",
              "    <tr style=\"text-align: right;\">\n",
              "      <th></th>\n",
              "      <th>salario_mensual_BRUTO</th>\n",
              "    </tr>\n",
              "    <tr>\n",
              "      <th>perfil_nivel_estudios</th>\n",
              "      <th></th>\n",
              "    </tr>\n",
              "  </thead>\n",
              "  <tbody>\n",
              "    <tr>\n",
              "      <th>Doctorado</th>\n",
              "      <td>141973.703000</td>\n",
              "    </tr>\n",
              "    <tr>\n",
              "      <th>Posdoctorado</th>\n",
              "      <td>637035.750000</td>\n",
              "    </tr>\n",
              "    <tr>\n",
              "      <th>Posgrado</th>\n",
              "      <td>167045.428246</td>\n",
              "    </tr>\n",
              "    <tr>\n",
              "      <th>Primario</th>\n",
              "      <td>109000.000000</td>\n",
              "    </tr>\n",
              "    <tr>\n",
              "      <th>Secundario</th>\n",
              "      <td>103639.224196</td>\n",
              "    </tr>\n",
              "    <tr>\n",
              "      <th>Terciario</th>\n",
              "      <td>102537.506139</td>\n",
              "    </tr>\n",
              "    <tr>\n",
              "      <th>Universitario</th>\n",
              "      <td>128010.618984</td>\n",
              "    </tr>\n",
              "  </tbody>\n",
              "</table>\n",
              "</div>"
            ],
            "text/plain": [
              "                       salario_mensual_BRUTO\n",
              "perfil_nivel_estudios                       \n",
              "Doctorado                      141973.703000\n",
              "Posdoctorado                   637035.750000\n",
              "Posgrado                       167045.428246\n",
              "Primario                       109000.000000\n",
              "Secundario                     103639.224196\n",
              "Terciario                      102537.506139\n",
              "Universitario                  128010.618984"
            ]
          },
          "metadata": {
            "tags": []
          },
          "execution_count": 45
        }
      ]
    },
    {
      "cell_type": "markdown",
      "metadata": {
        "id": "ucL40xfMv0oZ"
      },
      "source": [
        "¿Qué pasó con nuestra hipótesis? ¿Podemos confirmarla o refutarla? ¿Qué otros datos agregarían para profundizar en este análisis?"
      ]
    },
    {
      "cell_type": "code",
      "metadata": {
        "id": "5D9A9vXgv-dG",
        "colab": {
          "base_uri": "https://localhost:8080/",
          "height": 173
        },
        "outputId": "da6607e9-13d3-45d7-9d61-ef68cb0ba508"
      },
      "source": [
        "df_3 = df_renamed[[\"perfil_genero\", \"perfil_nivel_estudios\", \"salario_mensual_BRUTO\"]] \n",
        "df_3.groupby(by=\"perfil_genero\").mean()\n"
      ],
      "execution_count": null,
      "outputs": [
        {
          "output_type": "execute_result",
          "data": {
            "text/html": [
              "<div>\n",
              "<style scoped>\n",
              "    .dataframe tbody tr th:only-of-type {\n",
              "        vertical-align: middle;\n",
              "    }\n",
              "\n",
              "    .dataframe tbody tr th {\n",
              "        vertical-align: top;\n",
              "    }\n",
              "\n",
              "    .dataframe thead th {\n",
              "        text-align: right;\n",
              "    }\n",
              "</style>\n",
              "<table border=\"1\" class=\"dataframe\">\n",
              "  <thead>\n",
              "    <tr style=\"text-align: right;\">\n",
              "      <th></th>\n",
              "      <th>salario_mensual_BRUTO</th>\n",
              "    </tr>\n",
              "    <tr>\n",
              "      <th>perfil_genero</th>\n",
              "      <th></th>\n",
              "    </tr>\n",
              "  </thead>\n",
              "  <tbody>\n",
              "    <tr>\n",
              "      <th>Hombre</th>\n",
              "      <td>129811.047365</td>\n",
              "    </tr>\n",
              "    <tr>\n",
              "      <th>Mujer</th>\n",
              "      <td>92691.962141</td>\n",
              "    </tr>\n",
              "    <tr>\n",
              "      <th>Otros</th>\n",
              "      <td>126737.000000</td>\n",
              "    </tr>\n",
              "  </tbody>\n",
              "</table>\n",
              "</div>"
            ],
            "text/plain": [
              "               salario_mensual_BRUTO\n",
              "perfil_genero                       \n",
              "Hombre                 129811.047365\n",
              "Mujer                   92691.962141\n",
              "Otros                  126737.000000"
            ]
          },
          "metadata": {
            "tags": []
          },
          "execution_count": 50
        }
      ]
    },
    {
      "cell_type": "markdown",
      "metadata": {
        "id": "TdXO_YM5v995"
      },
      "source": [
        "##Ejercicio 1\n",
        "Ahora vamos a plantear una segunda hipótesis: los varones ganan más en promedio que las mujeres y diversidades. ¿Lo calculamos?"
      ]
    },
    {
      "cell_type": "code",
      "metadata": {
        "id": "UsIzMma9w5lV"
      },
      "source": [
        "# \n"
      ],
      "execution_count": null,
      "outputs": []
    },
    {
      "cell_type": "markdown",
      "metadata": {
        "id": "PP8x_1Njw4BX"
      },
      "source": [
        "¿Qué pasó con la segunda hipótesis?"
      ]
    },
    {
      "cell_type": "code",
      "metadata": {
        "id": "SohvPEXfxQdH"
      },
      "source": [
        "# Responder acá"
      ],
      "execution_count": null,
      "outputs": []
    },
    {
      "cell_type": "code",
      "metadata": {
        "id": "CNxjVTmmDnxn"
      },
      "source": [
        ""
      ],
      "execution_count": null,
      "outputs": []
    },
    {
      "cell_type": "markdown",
      "metadata": {
        "id": "w5xfJ6Csxd5I"
      },
      "source": [
        "##Ejercicio 2: ¿Te animás a más?\n",
        "Si te quedaste con ganas de profundizar el análisis, te dejamos este espacio para que lo hagas. ¿Qué otras variables tendrías en cuenta para mejorar el análisis? ¿Además del promedio, qué otro estadístico podría ayudarnos a comprender mejor esta diferencia salarial?"
      ]
    },
    {
      "cell_type": "code",
      "metadata": {
        "id": "O16tkzcTyUWV"
      },
      "source": [
        "# Responder acá"
      ],
      "execution_count": null,
      "outputs": []
    },
    {
      "cell_type": "code",
      "metadata": {
        "id": "hRnW-piWyUsp"
      },
      "source": [
        ""
      ],
      "execution_count": null,
      "outputs": []
    },
    {
      "cell_type": "code",
      "metadata": {
        "id": "DbDuZX5xyUvq"
      },
      "source": [
        ""
      ],
      "execution_count": null,
      "outputs": []
    },
    {
      "cell_type": "code",
      "metadata": {
        "id": "5-1gGd5er2VO"
      },
      "source": [
        ""
      ],
      "execution_count": null,
      "outputs": []
    },
    {
      "cell_type": "code",
      "metadata": {
        "id": "T5UwwDn-r3Rx"
      },
      "source": [
        ""
      ],
      "execution_count": null,
      "outputs": []
    }
  ]
}